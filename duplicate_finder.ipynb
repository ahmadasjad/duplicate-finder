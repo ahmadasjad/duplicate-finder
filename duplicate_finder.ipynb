{
  "nbformat": 4,
  "nbformat_minor": 0,
  "metadata": {
    "colab": {
      "provenance": [],
      "collapsed_sections": [
        "3v_YSPzcjX3e"
      ]
    },
    "kernelspec": {
      "name": "python3",
      "display_name": "Python 3"
    },
    "language_info": {
      "name": "python"
    }
  },
  "cells": [
    {
      "cell_type": "markdown",
      "source": [
        "# install global"
      ],
      "metadata": {
        "id": "3v_YSPzcjX3e"
      }
    },
    {
      "cell_type": "code",
      "source": [
        "# !pip install streamlit pyngrok\n"
      ],
      "metadata": {
        "id": "zBxrct-bjYNj"
      },
      "execution_count": null,
      "outputs": []
    },
    {
      "cell_type": "markdown",
      "source": [
        "# Install the app"
      ],
      "metadata": {
        "id": "xGlPMp8KjYi7"
      }
    },
    {
      "cell_type": "markdown",
      "source": [
        "## Clone the app"
      ],
      "metadata": {
        "id": "g75Wh3yR1wkn"
      }
    },
    {
      "cell_type": "code",
      "source": [
        "!git clone https://github.com/ahmadasjad/duplicate-finder.git"
      ],
      "metadata": {
        "id": "AEAPXu5DjY0c"
      },
      "execution_count": null,
      "outputs": []
    },
    {
      "cell_type": "markdown",
      "source": [
        "## move in app folder"
      ],
      "metadata": {
        "id": "WzY8Qy7p2AKN"
      }
    },
    {
      "cell_type": "code",
      "source": [
        "%cd duplicate-finder"
      ],
      "metadata": {
        "id": "VtsztZhxkBjb"
      },
      "execution_count": null,
      "outputs": []
    },
    {
      "cell_type": "markdown",
      "source": [
        "## install dependencies"
      ],
      "metadata": {
        "id": "Zo4w6ZGQ2GBE"
      }
    },
    {
      "cell_type": "code",
      "source": [
        "!pip install -r requirements.txt"
      ],
      "metadata": {
        "id": "oXIa6PGikI-f"
      },
      "execution_count": null,
      "outputs": []
    },
    {
      "cell_type": "markdown",
      "source": [
        "## install tunnel dependency"
      ],
      "metadata": {
        "id": "bkMgHzNp2PD6"
      }
    },
    {
      "cell_type": "code",
      "source": [
        "!pip install pyngrok streamlit"
      ],
      "metadata": {
        "id": "b9ClC4z8khtA"
      },
      "execution_count": null,
      "outputs": []
    },
    {
      "cell_type": "markdown",
      "source": [
        "# Run the app"
      ],
      "metadata": {
        "id": "T4nNzn4ckqY4"
      }
    },
    {
      "cell_type": "code",
      "source": [
        "from pyngrok import ngrok\n",
        "import threading\n",
        "from google.colab import userdata\n",
        "import subprocess\n",
        "import os\n",
        "os.environ[\"PYTHONPATH\"] = \"/content/duplicate-finder\"\n",
        "\n",
        "ngrock_token = userdata.get('NGROCK_TOKEN')\n",
        "# !ngrok config add-authtoken ngrock_token\n",
        "subprocess.run([\"ngrok\", \"config\", \"add-authtoken\", ngrock_token], check=True)\n",
        "\n",
        "\n",
        "\n",
        "# Start Streamlit server\n",
        "def start_streamlit():\n",
        "    !streamlit run app/main.py --server.port 8501\n",
        "\n",
        "# Start ngrok tunnel\n",
        "threading.Thread(target=start_streamlit).start()\n",
        "public_url = ngrok.connect(8501)\n",
        "print(f\"Streamlit app running at: {public_url}\")"
      ],
      "metadata": {
        "id": "RbXo2uVXks40"
      },
      "execution_count": null,
      "outputs": []
    }
  ]
}